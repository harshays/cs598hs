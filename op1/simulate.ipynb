{
 "cells": [
  {
   "cell_type": "code",
   "execution_count": 1,
   "metadata": {
    "ExecuteTime": {
     "end_time": "2017-11-08T04:36:56.158682Z",
     "start_time": "2017-11-08T04:36:56.133322Z"
    },
    "collapsed": true
   },
   "outputs": [],
   "source": [
    "%load_ext autoreload\n",
    "%autoreload 2"
   ]
  },
  {
   "cell_type": "code",
   "execution_count": 2,
   "metadata": {
    "ExecuteTime": {
     "end_time": "2017-11-08T04:36:57.325122Z",
     "start_time": "2017-11-08T04:36:57.212940Z"
    },
    "collapsed": true
   },
   "outputs": [],
   "source": [
    "import run\n",
    "import igraph as ig"
   ]
  },
  {
   "cell_type": "code",
   "execution_count": 3,
   "metadata": {
    "ExecuteTime": {
     "end_time": "2017-11-08T04:37:09.515484Z",
     "start_time": "2017-11-08T04:37:09.155479Z"
    },
    "collapsed": true
   },
   "outputs": [],
   "source": [
    "import matplotlib.pyplot as plt"
   ]
  },
  {
   "cell_type": "code",
   "execution_count": 63,
   "metadata": {
    "ExecuteTime": {
     "end_time": "2017-11-08T05:11:31.995324Z",
     "start_time": "2017-11-08T05:11:31.976057Z"
    },
    "collapsed": true
   },
   "outputs": [],
   "source": [
    "%matplotlib inline"
   ]
  },
  {
   "cell_type": "code",
   "execution_count": 4,
   "metadata": {
    "ExecuteTime": {
     "end_time": "2017-11-08T04:37:10.792012Z",
     "start_time": "2017-11-08T04:37:10.771550Z"
    }
   },
   "outputs": [
    {
     "data": {
      "text/plain": [
       "'IGRAPH U--- 50 500 -- '"
      ]
     },
     "execution_count": 4,
     "metadata": {},
     "output_type": "execute_result"
    }
   ],
   "source": [
    "g = ig.Graph.Erdos_Renyi(50, m=500)\n",
    "g.summary()"
   ]
  },
  {
   "cell_type": "code",
   "execution_count": 10,
   "metadata": {
    "ExecuteTime": {
     "end_time": "2017-11-08T04:39:11.027950Z",
     "start_time": "2017-11-08T04:39:11.013600Z"
    }
   },
   "outputs": [],
   "source": [
    "bc, bu = run.get_behaviors(3)"
   ]
  },
  {
   "cell_type": "code",
   "execution_count": 11,
   "metadata": {
    "ExecuteTime": {
     "end_time": "2017-11-08T04:39:11.854340Z",
     "start_time": "2017-11-08T04:39:11.838649Z"
    }
   },
   "outputs": [
    {
     "data": {
      "text/plain": [
       "{0: 0.8407305695299995, 1: 0.3509271270586677, 2: 0.3178287570396524}"
      ]
     },
     "execution_count": 11,
     "metadata": {},
     "output_type": "execute_result"
    }
   ],
   "source": [
    "bc"
   ]
  },
  {
   "cell_type": "code",
   "execution_count": 12,
   "metadata": {
    "ExecuteTime": {
     "end_time": "2017-11-08T04:39:25.629019Z",
     "start_time": "2017-11-08T04:39:25.614231Z"
    },
    "collapsed": true
   },
   "outputs": [],
   "source": [
    "g = run.initialize_graph(g, 2, 2)"
   ]
  },
  {
   "cell_type": "code",
   "execution_count": 13,
   "metadata": {
    "ExecuteTime": {
     "end_time": "2017-11-08T04:39:28.837880Z",
     "start_time": "2017-11-08T04:39:28.822111Z"
    }
   },
   "outputs": [
    {
     "data": {
      "text/plain": [
       "'IGRAPH U--- 50 500 -- \\n+ attr: behaviors (v), num_post (v), num_read (v), r (v), theta (v)'"
      ]
     },
     "execution_count": 13,
     "metadata": {},
     "output_type": "execute_result"
    }
   ],
   "source": [
    "g.summary()"
   ]
  },
  {
   "cell_type": "code",
   "execution_count": 15,
   "metadata": {
    "ExecuteTime": {
     "end_time": "2017-11-08T04:40:33.998682Z",
     "start_time": "2017-11-08T04:40:33.982329Z"
    }
   },
   "outputs": [],
   "source": [
    "g = run.alter_structure(g, 0.1)"
   ]
  },
  {
   "cell_type": "code",
   "execution_count": 16,
   "metadata": {
    "ExecuteTime": {
     "end_time": "2017-11-08T04:40:36.755306Z",
     "start_time": "2017-11-08T04:40:36.739674Z"
    }
   },
   "outputs": [
    {
     "data": {
      "text/plain": [
       "'IGRAPH U--- 50 550 -- \\n+ attr: behaviors (v), num_post (v), num_read (v), r (v), theta (v)'"
      ]
     },
     "execution_count": 16,
     "metadata": {},
     "output_type": "execute_result"
    }
   ],
   "source": [
    "g.summary()"
   ]
  },
  {
   "cell_type": "code",
   "execution_count": 17,
   "metadata": {
    "ExecuteTime": {
     "end_time": "2017-11-08T04:40:58.019463Z",
     "start_time": "2017-11-08T04:40:58.002994Z"
    }
   },
   "outputs": [
    {
     "data": {
      "text/plain": [
       "0.0"
      ]
     },
     "execution_count": 17,
     "metadata": {},
     "output_type": "execute_result"
    }
   ],
   "source": [
    "run.compute_resource_utilization(g,bc)"
   ]
  },
  {
   "cell_type": "code",
   "execution_count": 212,
   "metadata": {
    "ExecuteTime": {
     "end_time": "2017-11-08T06:32:50.206330Z",
     "start_time": "2017-11-08T06:32:49.874734Z"
    },
    "collapsed": true
   },
   "outputs": [],
   "source": [
    "g = ig.Graph.Watts_Strogatz(1, 400, 4, 0.2)\n",
    "# g = ig.Graph.Erdos_Renyi(200, 0.1)\n",
    "graphs = [g]\n",
    "for _ in range(10):\n",
    "    g = run.alter_structure(g,0.1)\n",
    "    graphs.append(g.copy())"
   ]
  },
  {
   "cell_type": "code",
   "execution_count": 213,
   "metadata": {
    "ExecuteTime": {
     "end_time": "2017-11-08T06:32:52.966914Z",
     "start_time": "2017-11-08T06:32:52.946081Z"
    },
    "collapsed": true
   },
   "outputs": [],
   "source": [
    "seeds = np.random.choice(g.vs.indices,size=20)"
   ]
  },
  {
   "cell_type": "code",
   "execution_count": 214,
   "metadata": {
    "ExecuteTime": {
     "end_time": "2017-11-08T06:33:49.210008Z",
     "start_time": "2017-11-08T06:32:53.602104Z"
    }
   },
   "outputs": [],
   "source": [
    "b_vals = []\n",
    "for graph in graphs:\n",
    "    b = np.mean([run.run(graph, 2, 5, seeds=seeds)[0] for _ in range(3)])\n",
    "    b_vals.append(b)"
   ]
  },
  {
   "cell_type": "code",
   "execution_count": 215,
   "metadata": {
    "ExecuteTime": {
     "end_time": "2017-11-08T06:34:56.987530Z",
     "start_time": "2017-11-08T06:34:56.965410Z"
    }
   },
   "outputs": [
    {
     "data": {
      "text/plain": [
       "[0.38885507018458343,\n",
       " 0.47471794814510176,\n",
       " 0.27661626111853088,\n",
       " 0.36827802451636832,\n",
       " 0.36613164923737823,\n",
       " 0.36831213091354448,\n",
       " 0.59183281189129744,\n",
       " 0.12115596861913232,\n",
       " 0.33278209632657374,\n",
       " 0.25088274699342894,\n",
       " 0.30214399630961003]"
      ]
     },
     "execution_count": 215,
     "metadata": {},
     "output_type": "execute_result"
    }
   ],
   "source": [
    "b_vals"
   ]
  },
  {
   "cell_type": "code",
   "execution_count": 216,
   "metadata": {
    "ExecuteTime": {
     "end_time": "2017-11-08T06:34:59.449678Z",
     "start_time": "2017-11-08T06:34:59.429161Z"
    },
    "collapsed": true
   },
   "outputs": [],
   "source": [
    "c = np.power([1.05], range(len(b_vals)))"
   ]
  },
  {
   "cell_type": "code",
   "execution_count": 218,
   "metadata": {
    "ExecuteTime": {
     "end_time": "2017-11-08T06:36:52.380432Z",
     "start_time": "2017-11-08T06:36:51.993254Z"
    }
   },
   "outputs": [
    {
     "data": {
      "image/png": "[encoded data removed]",
      "text/plain": [
       "<matplotlib.figure.Figure at 0x117d54710>"
      ]
     },
     "metadata": {},
     "output_type": "display_data"
    }
   ],
   "source": [
    "ax = sns.regplot(c, np.array(b_vals))\n",
    "ax.set_title('Watts-Strogatz graph (n=200,nei=3,p=0.1)')\n",
    "ax.set_ylabel('B')\n",
    "ax.set_xlabel('m')\n",
    "plt.savefig('ws_bc.pdf')"
   ]
  },
  {
   "cell_type": "code",
   "execution_count": 143,
   "metadata": {
    "ExecuteTime": {
     "end_time": "2017-11-08T05:44:20.812693Z",
     "start_time": "2017-11-08T05:44:20.008730Z"
    },
    "collapsed": true
   },
   "outputs": [],
   "source": [
    "import seaborn as sns"
   ]
  },
  {
   "cell_type": "code",
   "execution_count": 223,
   "metadata": {
    "ExecuteTime": {
     "end_time": "2017-11-08T06:44:55.569341Z",
     "start_time": "2017-11-08T06:44:22.590624Z"
    }
   },
   "outputs": [
    {
     "name": "stdout",
     "output_type": "stream",
     "text": [
      "0.431625731989\n",
      "0.448490332026\n",
      "0.439947829805\n",
      "0.439060294698\n",
      "0.580114218772\n",
      "0.318261094483\n",
      "0.491395054467\n",
      "0.344842781425\n",
      "0.461357736147\n",
      "0.343185939087\n"
     ]
    }
   ],
   "source": [
    "g = ig.Graph.Watts_Strogatz(1,200,4,0.2)\n",
    "runs = 10\n",
    "bvals = []\n",
    "for _ in range(runs):yeah\n",
    "    B = np.mean([run.run(g, 2, 5, num_behaviors=runs+1, seeds=seeds)[0] for _ in range(5)])\n",
    "    bvals.append(B)\n",
    "    print (B)"
   ]
  },
  {
   "cell_type": "code",
   "execution_count": 206,
   "metadata": {
    "ExecuteTime": {
     "end_time": "2017-11-08T06:27:35.773383Z",
     "start_time": "2017-11-08T06:27:35.751269Z"
    }
   },
   "outputs": [
    {
     "data": {
      "text/plain": [
       "[1, 2, 3, 4, 5, 6, 7, 8, 9, 10]"
      ]
     },
     "execution_count": 206,
     "metadata": {},
     "output_type": "execute_result"
    }
   ],
   "source": [
    "range(1,runs+1)"
   ]
  },
  {
   "cell_type": "code",
   "execution_count": 224,
   "metadata": {
    "ExecuteTime": {
     "end_time": "2017-11-08T06:45:00.429171Z",
     "start_time": "2017-11-08T06:45:00.052767Z"
    }
   },
   "outputs": [
    {
     "data": {
      "image/png": "[encoded data removed]",
      "text/plain": [
       "<matplotlib.figure.Figure at 0x118232810>"
      ]
     },
     "metadata": {},
     "output_type": "display_data"
    }
   ],
   "source": [
    "ax = sns.regplot(np.array(range(1,runs+1)), np.array(bvals))\n",
    "ax.set_xlabel('number of behaviors')\n",
    "ax.set_ylabel('B')\n",
    "ax.set_title('B vs. number of behaviors')\n",
    "plt.savefig('numb.pdf')"
   ]
  },
  {
   "cell_type": "code",
   "execution_count": null,
   "metadata": {
    "collapsed": true
   },
   "outputs": [],
   "source": []
  },
  {
   "cell_type": "code",
   "execution_count": 177,
   "metadata": {
    "ExecuteTime": {
     "end_time": "2017-11-08T06:14:46.840707Z",
     "start_time": "2017-11-08T06:14:46.382450Z"
    }
   },
   "outputs": [
    {
     "data": {
      "image/png": "[encoded data removed]",
      "text/plain": [
       "<matplotlib.figure.Figure at 0x117f20610>"
      ]
     },
     "metadata": {},
     "output_type": "display_data"
    }
   ],
   "source": [
    "ax = sns.regplot(c, np.array(b_vals))\n",
    "ax.set_title('Erdos-Renyi graph (n=200,p=0.1)')\n",
    "ax.set_ylabel('B')\n",
    "ax.set_xlabel('m')\n",
    "plt.savefig('er_bc.pdf')"
   ]
  },
  {
   "cell_type": "code",
   "execution_count": null,
   "metadata": {
    "collapsed": true
   },
   "outputs": [],
   "source": [
    "\n"
   ]
  }
 ],
 "metadata": {
  "kernelspec": {
   "display_name": "Python 2",
   "language": "python",
   "name": "python2"
  },
  "language_info": {
   "codemirror_mode": {
    "name": "ipython",
    "version": 2
   },
   "file_extension": ".py",
   "mimetype": "text/x-python",
   "name": "python",
   "nbconvert_exporter": "python",
   "pygments_lexer": "ipython2",
   "version": "2.7.13"
  },
  "toc": {
   "colors": {
    "hover_highlight": "#DAA520",
    "navigate_num": "#000000",
    "navigate_text": "#333333",
    "running_highlight": "#FF0000",
    "selected_highlight": "#FFD700",
    "sidebar_border": "#EEEEEE",
    "wrapper_background": "#FFFFFF"
   },
   "moveMenuLeft": true,
   "nav_menu": {
    "height": "12px",
    "width": "252px"
   },
   "navigate_menu": true,
   "number_sections": true,
   "sideBar": true,
   "threshold": 4,
   "toc_cell": false,
   "toc_section_display": "block",
   "toc_window_display": false,
   "widenNotebook": false
  }
 },
 "nbformat": 4,
 "nbformat_minor": 2
}
