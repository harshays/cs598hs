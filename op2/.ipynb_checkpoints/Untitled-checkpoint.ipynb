{
 "cells": [
  {
   "cell_type": "code",
   "execution_count": 1,
   "metadata": {
    "ExecuteTime": {
     "end_time": "2017-11-13T22:40:16.504339Z",
     "start_time": "2017-11-13T22:40:16.490212Z"
    },
    "collapsed": true
   },
   "outputs": [],
   "source": [
    "%load_ext autoreload"
   ]
  },
  {
   "cell_type": "code",
   "execution_count": 2,
   "metadata": {
    "ExecuteTime": {
     "end_time": "2017-11-13T22:40:16.766759Z",
     "start_time": "2017-11-13T22:40:16.762364Z"
    },
    "collapsed": true
   },
   "outputs": [],
   "source": [
    "%autoreload 2"
   ]
  },
  {
   "cell_type": "code",
   "execution_count": 3,
   "metadata": {
    "ExecuteTime": {
     "end_time": "2017-11-13T22:40:17.309412Z",
     "start_time": "2017-11-13T22:40:17.009401Z"
    },
    "collapsed": true
   },
   "outputs": [],
   "source": [
    "import matplotlib.pyplot as plt"
   ]
  },
  {
   "cell_type": "code",
   "execution_count": 4,
   "metadata": {
    "ExecuteTime": {
     "end_time": "2017-11-13T22:40:17.325389Z",
     "start_time": "2017-11-13T22:40:17.311320Z"
    },
    "collapsed": true
   },
   "outputs": [],
   "source": [
    "%matplotlib inline"
   ]
  },
  {
   "cell_type": "code",
   "execution_count": 66,
   "metadata": {
    "ExecuteTime": {
     "end_time": "2017-11-13T22:48:44.873987Z",
     "start_time": "2017-11-13T22:48:44.861610Z"
    },
    "collapsed": true
   },
   "outputs": [],
   "source": [
    "import cgm\n",
    "import numpy as np\n",
    "import igraph as ig"
   ]
  },
  {
   "cell_type": "code",
   "execution_count": 24,
   "metadata": {
    "ExecuteTime": {
     "end_time": "2017-11-13T22:43:02.551731Z",
     "start_time": "2017-11-13T22:43:02.540117Z"
    },
    "collapsed": true
   },
   "outputs": [],
   "source": [
    "from collections import defaultdict, Counter"
   ]
  },
  {
   "cell_type": "code",
   "execution_count": 160,
   "metadata": {
    "ExecuteTime": {
     "end_time": "2017-11-14T00:15:41.751241Z",
     "start_time": "2017-11-14T00:15:41.714106Z"
    },
    "collapsed": true
   },
   "outputs": [],
   "source": [
    "def dd(degs,cutoff=3):\n",
    "    xk, fk = map(np.array, zip(*sorted(Counter(degs).items())))\n",
    "    xk, fk = xk[cutoff:], fk[cutoff:]\n",
    "    pk = fk.astype(float)/np.sum(fk)\n",
    "    return xk,pk\n",
    "\n",
    "def edd(p_new,p_in,p_vc,m,xk,pk,degs):\n",
    "    pk = np.array(pk)\n",
    "    p_out=1-p_new-p_in\n",
    "    attr_const = np.max(1-pk)\n",
    "    a = m*p_new*p_vc+p_out*attr_const\n",
    "    b = m*(1-p_vc)+p_in\n",
    "    c = m*p_new+1-p_new\n",
    "    degs = np.array(degs)\n",
    "    C = (a*c/b+1)/m\n",
    "    C2 = (a+b/c)\n",
    "    C3 = -c/b-1\n",
    "    dist = C*(((C2/m)*degs)**C3)\n",
    "    dist = dist/np.sum(dist)\n",
    "    return dist"
   ]
  },
  {
   "cell_type": "code",
   "execution_count": 171,
   "metadata": {
    "ExecuteTime": {
     "end_time": "2017-11-14T00:17:02.734159Z",
     "start_time": "2017-11-14T00:17:02.721550Z"
    }
   },
   "outputs": [],
   "source": [
    "xk, pk = [0,1,2,3], [0.25,0.25,0.25,0.25]\n",
    "p_new, p_in = 1.,0\n",
    "p_vc = .99\n",
    "N,m = 20000,8"
   ]
  },
  {
   "cell_type": "code",
   "execution_count": 173,
   "metadata": {
    "ExecuteTime": {
     "end_time": "2017-11-14T00:17:19.765756Z",
     "start_time": "2017-11-14T00:17:16.705652Z"
    }
   },
   "outputs": [
    {
     "name": "stdout",
     "output_type": "stream",
     "text": [
      "IGRAPH U--- 20040 159377 -- \n",
      "+ attr: attr (v)\n",
      "0.7495474853540721\n"
     ]
    }
   ],
   "source": [
    "g = cgm.get_cgm_graph(N,m,p_new,p_in,p_vc,xk,pk)\n",
    "print (g.summary())\n",
    "print (g.modularity(g.vs['attr']))"
   ]
  },
  {
   "cell_type": "code",
   "execution_count": 174,
   "metadata": {
    "ExecuteTime": {
     "end_time": "2017-11-14T00:17:21.294790Z",
     "start_time": "2017-11-14T00:17:21.281245Z"
    }
   },
   "outputs": [],
   "source": [
    "dxk, dpk = dd(g.degree())\n",
    "d = edd(p_new,p_in,p_vc,m,xk,pk,dxk)"
   ]
  },
  {
   "cell_type": "code",
   "execution_count": 175,
   "metadata": {
    "ExecuteTime": {
     "end_time": "2017-11-14T00:17:23.185727Z",
     "start_time": "2017-11-14T00:17:22.599842Z"
    }
   },
   "outputs": [
    {
     "data": {
      "text/plain": [
       "[<matplotlib.lines.Line2D at 0x10ad857f0>]"
      ]
     },
     "execution_count": 175,
     "metadata": {},
     "output_type": "execute_result"
    },
    {
     "data": {
      "image/png": "[encoded data removed]",
      "text/plain": [
       "<matplotlib.figure.Figure at 0x10b1bbc18>"
      ]
     },
     "metadata": {},
     "output_type": "display_data"
    }
   ],
   "source": [
    "plt.loglog(dxk, dpk, '.--')\n",
    "plt.loglog(dxk, d, '-')"
   ]
  },
  {
   "cell_type": "code",
   "execution_count": 138,
   "metadata": {
    "ExecuteTime": {
     "end_time": "2017-11-14T00:13:04.368313Z",
     "start_time": "2017-11-14T00:13:04.354839Z"
    }
   },
   "outputs": [
    {
     "name": "stdout",
     "output_type": "stream",
     "text": [
      "0.193333333333 2.9 -1.5333333333333332\n"
     ]
    }
   ],
   "source": []
  },
  {
   "cell_type": "code",
   "execution_count": 139,
   "metadata": {
    "ExecuteTime": {
     "end_time": "2017-11-14T00:13:08.409982Z",
     "start_time": "2017-11-14T00:13:08.394780Z"
    }
   },
   "outputs": [
    {
     "data": {
      "text/plain": [
       "array([ 0.07917254,  0.0673617 ,  0.05820285,  0.0509333 ,  0.04505053,\n",
       "        0.04021148,  0.03617483,  0.03276643,  0.02985782,  0.02735239,\n",
       "        0.02517624,  0.023272  ,  0.02159452,  0.02010782,  0.01878295,\n",
       "        0.01759635,  0.01652869,  0.01556398,  0.01468888,  0.01389219,\n",
       "        0.01316445,  0.01249761,  0.0118848 ,  0.01132009,  0.01079837,\n",
       "        0.01031523,  0.00986678,  0.00944965,  0.00906088,  0.00869784,\n",
       "        0.00835822,  0.00803997,  0.00774125,  0.00746044,  0.00719606,\n",
       "        0.00694681,  0.00671151,  0.0064891 ,  0.0062786 ,  0.00607915,\n",
       "        0.00588996,  0.0057103 ,  0.00553952,  0.00537702,  0.00522224,\n",
       "        0.00507469,  0.0049339 ,  0.00479945,  0.00467095,  0.00454803,\n",
       "        0.00443037,  0.00431765,  0.0042096 ,  0.00410594,  0.00400643,\n",
       "        0.00391084,  0.00381897,  0.0037306 ,  0.00364557,  0.00356369,\n",
       "        0.0034848 ,  0.00340876,  0.00333542,  0.00326465,  0.00319633,\n",
       "        0.00313034,  0.00306657,  0.00300492,  0.00294528,  0.00288758,\n",
       "        0.00283173,  0.00277763,  0.00272523,  0.00262519,  0.00257742,\n",
       "        0.00248608,  0.00239997,  0.00235875,  0.00231868,  0.00227973,\n",
       "        0.00220499,  0.00210022,  0.00203485,  0.00183058,  0.00177838,\n",
       "        0.00165811,  0.00161371,  0.00157125,  0.0015306 ,  0.00138413,\n",
       "        0.00103813])"
      ]
     },
     "execution_count": 139,
     "metadata": {},
     "output_type": "execute_result"
    }
   ],
   "source": []
  },
  {
   "cell_type": "code",
   "execution_count": null,
   "metadata": {
    "collapsed": true
   },
   "outputs": [],
   "source": []
  }
 ],
 "metadata": {
  "kernelspec": {
   "display_name": "Python 3",
   "language": "python",
   "name": "python3"
  },
  "language_info": {
   "codemirror_mode": {
    "name": "ipython",
    "version": 3
   },
   "file_extension": ".py",
   "mimetype": "text/x-python",
   "name": "python",
   "nbconvert_exporter": "python",
   "pygments_lexer": "ipython3",
   "version": "3.6.2"
  },
  "toc": {
   "colors": {
    "hover_highlight": "#DAA520",
    "navigate_num": "#000000",
    "navigate_text": "#333333",
    "running_highlight": "#FF0000",
    "selected_highlight": "#FFD700",
    "sidebar_border": "#EEEEEE",
    "wrapper_background": "#FFFFFF"
   },
   "moveMenuLeft": true,
   "nav_menu": {
    "height": "12px",
    "width": "252px"
   },
   "navigate_menu": true,
   "number_sections": true,
   "sideBar": true,
   "threshold": 4,
   "toc_cell": false,
   "toc_section_display": "block",
   "toc_window_display": false,
   "widenNotebook": false
  }
 },
 "nbformat": 4,
 "nbformat_minor": 2
}
